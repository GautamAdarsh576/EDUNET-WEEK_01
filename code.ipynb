
import pandas as pd
import numpy as np
import matplotlib.pyplot as plt
import seaborn as sns


df = pd.read_csv("../data/raw_data.csv")


print(df.head())


print(df.info())


df.fillna(df.mean(numeric_only=True), inplace=True)


df = pd.get_dummies(df, drop_first=True)


df.to_csv("../outputs/cleaned_data.csv", index=False)


plt.figure(figsize=(10, 8))
sns.heatmap(df.corr(), annot=True, cmap="coolwarm")
plt.title("Correlation Matrix")
plt.savefig("../outputs/visuals/correlation_matrix.png")
plt.close()


if 'Age' in df.columns:
    sns.histplot(df['Age'], kde=True)
    plt.title("Age Distribution")
    plt.savefig("../outputs/visuals/distribution_plot.png")
    plt.close()


