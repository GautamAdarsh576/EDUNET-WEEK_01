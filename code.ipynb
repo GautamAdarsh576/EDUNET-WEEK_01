import pandas as pd
import matplotlib.pyplot as plt
import seaborn as sns

# Load datasets
df1 = pd.read_csv("6344ec94bb4449051550.csv")
df2 = pd.read_csv("ddaefda0913b36051550 (1).csv")
df3 = pd.read_csv("a04662ab156537051550.csv")

# Add 'year' column
df1['year'] = 2022
df2['year'] = 2021
df3['year'] = 2023

# Combine all datasets
combined_df = pd.concat([df1, df2, df3], ignore_index=True)

# Convert acq_date and acq_time
combined_df['acq_date'] = pd.to_datetime(combined_df['acq_date'], errors='coerce')
combined_df['acq_time'] = combined_df['acq_time'].apply(lambda x: f"{int(x):04d}")
combined_df['acq_time'] = pd.to_datetime(combined_df['acq_time'], format='%H%M', errors='coerce').dt.time

# Clean brightness
combined_df['brightness'] = pd.to_numeric(combined_df['brightness'], errors='coerce')
combined_df.dropna(subset=['brightness'], inplace=True)

# Correlation matrix
plt.figure(figsize=(10, 8))
numeric_cols = combined_df.select_dtypes(include=['float64', 'int64']).columns
corr = combined_df[numeric_cols].corr()
sns.heatmap(corr, annot=True, cmap='coolwarm')
plt.title("Correlation Matrix of Numeric Features")
plt.tight_layout()
plt.savefig("correlation_matrix.png")
plt.close()

# Brightness distribution
plt.figure(figsize=(8, 5))
sns.kdeplot(data=combined_df, x="brightness", hue="year", fill=True, common_norm=False)
plt.title("Brightness Distribution by Year")
plt.tight_layout()
plt.savefig("brightness_distribution_by_year.png")
plt.close()

# Monthly fire trends
combined_df['month'] = combined_df['acq_date'].dt.to_period('M')
monthly_counts = combined_df.groupby(['month', 'year']).size().reset_index(name='fire_counts')

plt.figure(figsize=(12, 6))
for yr in sorted(combined_df['year'].unique()):
    data = monthly_counts[monthly_counts['year'] == yr]
    plt.plot(data['month'].astype(str), data['fire_counts'], label=str(yr))

plt.xticks(rotation=45)
plt.xlabel("Month")
plt.ylabel("Fire Detections")
plt.title("Monthly Fire Detection Trends by Year")
plt.legend()
plt.tight_layout()
plt.savefig("monthly_fire_trend.png")
plt.close()

# Save cleaned data
combined_df.to_csv("cleaned_combined_fire_data.csv", index=False)
