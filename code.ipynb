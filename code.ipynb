# 📁 data/raw_data.csv
# (You can place your dataset here, or use a sample dataset such as Titanic, Iris, etc.)

# 📁 notebooks/02_data_import_preprocessing.ipynb
# Sample code snippet for data preprocessing:

import pandas as pd
import numpy as np
import matplotlib.pyplot as plt
import seaborn as sns

# Load the dataset (change filename accordingly)
df = pd.read_csv("../data/raw_data.csv")

# Display first few rows
print(df.head())

# Basic info
print(df.info())

# Handle missing values (example: fill or drop)
df.fillna(df.mean(numeric_only=True), inplace=True)

# Convert categorical variables to numeric (if needed)
df = pd.get_dummies(df, drop_first=True)

# Save cleaned data
df.to_csv("../outputs/cleaned_data.csv", index=False)

# 📁 notebooks/03_visualization_modelling.ipynb
# Sample EDA and visualization

# Correlation matrix
plt.figure(figsize=(10, 8))
sns.heatmap(df.corr(), annot=True, cmap="coolwarm")
plt.title("Correlation Matrix")
plt.savefig("../outputs/visuals/correlation_matrix.png")
plt.close()

# Distribution plot for a feature (example: Age)
if 'Age' in df.columns:
    sns.histplot(df['Age'], kde=True)
    plt.title("Age Distribution")
    plt.savefig("../outputs/visuals/distribution_plot.png")
    plt.close()

# 📄 requirements.txt
# Example dependencies
pandas
numpy
matplotlib
seaborn

# 📄 README.md
# Generated earlier

# 📄 milestone_feedback.md
# Fill this manually with the milestone form answers

# 📁 docs/project_overview.md & week1_summary.md
# Summarize project goal and Week 1 progress
